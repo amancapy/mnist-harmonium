{
 "cells": [
  {
   "cell_type": "code",
   "execution_count": 1,
   "metadata": {},
   "outputs": [
    {
     "name": "stdout",
     "output_type": "stream",
     "text": [
      "(70000, 28, 28)\n"
     ]
    }
   ],
   "source": [
    "from array import array\n",
    "import numpy as np\n",
    "import struct\n",
    "import matplotlib.pyplot as plt\n",
    "from typing import Dict, List\n",
    "import random\n",
    "from multiprocessing import Pool\n",
    "\n",
    "f1 = open(\"./archive/train-images.idx3-ubyte\", \"rb\")\n",
    "struct.unpack(\">IIII\", f1.read(16))\n",
    "imgs1 = np.array(array(\"B\", f1.read()), dtype=np.uint32).reshape((-1, 28, 28))\n",
    "\n",
    "f2 = open(\"archive/t10k-images.idx3-ubyte\", \"rb\")\n",
    "struct.unpack(\">IIII\", f2.read(16))\n",
    "imgs2 = np.array(array(\"B\", f2.read()), dtype=np.uint32).reshape((-1, 28, 28))\n",
    "\n",
    "imgs = np.concat((imgs1, imgs2), axis=0)\n",
    "print(imgs.shape)"
   ]
  },
  {
   "cell_type": "code",
   "execution_count": 2,
   "metadata": {},
   "outputs": [
    {
     "name": "stdout",
     "output_type": "stream",
     "text": [
      "(70000, 28, 28)\n"
     ]
    },
    {
     "data": {
      "image/png": "[encoded data removed]",
      "text/plain": [
       "<Figure size 640x480 with 1 Axes>"
      ]
     },
     "metadata": {},
     "output_type": "display_data"
    }
   ],
   "source": [
    "from array import array\n",
    "import numpy as np\n",
    "import struct\n",
    "import matplotlib.pyplot as plt\n",
    "from typing import Dict\n",
    "\n",
    "f1 = open(\"archive/train-images.idx3-ubyte\", \"rb\")\n",
    "struct.unpack(\">IIII\", f1.read(16))\n",
    "imgs1 = np.array(array(\"B\", f1.read())).reshape((-1, 28, 28))\n",
    "\n",
    "f2 = open(\"archive/t10k-images.idx3-ubyte\", \"rb\")\n",
    "struct.unpack(\">IIII\", f2.read(16))\n",
    "imgs2 = np.array(array(\"B\", f2.read())).reshape((-1, 28, 28))\n",
    "\n",
    "imgs = np.concat((imgs1, imgs2), axis=0)\n",
    "print(imgs.shape)\n",
    "\n",
    "plt.imshow(random.choice(imgs), cmap=\"gray\")\n",
    "plt.show()"
   ]
  },
  {
   "cell_type": "code",
   "execution_count": 5,
   "metadata": {},
   "outputs": [],
   "source": [
    "xs = np.array([[i for i in range(28)] for _ in range(28)])\n",
    "ys = np.array([[j for _ in range(28)] for j in range(28)])\n",
    "\n",
    "def atomize(image):\n",
    "    nonzero = np.nonzero(image)\n",
    "    idx = random.randint(0, len(nonzero[0])-1)\n",
    "    y, x = nonzero[0][idx], nonzero[1][idx]\n",
    "\n",
    "    r = random.randint(3, 6)\n",
    "\n",
    "    ins = ((xs - x) ** 2 + (ys - y) ** 2) ** 0.5 <= r\n",
    "    \n",
    "    return np.multiply(image, ins)\n",
    "\n",
    "atoms = random.choices(list(imgs), k=1000000)\n",
    "atoms = Pool(processes=8).map(atomize, atoms)"
   ]
  }
 ],
 "metadata": {
  "kernelspec": {
   "display_name": "bm",
   "language": "python",
   "name": "python3"
  },
  "language_info": {
   "codemirror_mode": {
    "name": "ipython",
    "version": 3
   },
   "file_extension": ".py",
   "mimetype": "text/x-python",
   "name": "python",
   "nbconvert_exporter": "python",
   "pygments_lexer": "ipython3",
   "version": "3.11.11"
  }
 },
 "nbformat": 4,
 "nbformat_minor": 2
}
